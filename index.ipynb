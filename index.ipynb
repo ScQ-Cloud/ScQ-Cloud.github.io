{
 "cells": [
  {
   "cell_type": "markdown",
   "metadata": {},
   "source": [
    "# Quafu document\n",
    "## Installation\n",
    "\n",
    "Run following codes in command line\n",
    "```shell\n",
    "git clone https://github.com/ScQ-Cloud/pyquafu\n",
    "cd quafu\n",
    "python setup.py build\n",
    "python setup.py install\n",
    "```\n",
    "## Set up your Quafu account\n",
    "To use the toolkit quafu, firstly you need to register on the [Quafu](http://quafu.baqis.ac.cn/) website and get your apitoken `<your API token>`. If you already have an account, execute the follow code to set up your account."
   ]
  },
  {
   "cell_type": "code",
   "execution_count": 2,
   "metadata": {},
   "outputs": [],
   "source": [
    "from quafu import User\n",
    "user = User()\n",
    "user.save_apitoken(<your API token>)"
   ]
  },
  {
   "cell_type": "markdown",
   "metadata": {},
   "source": [
    " You only need to save your token once and no longer need to execute above code when you use quafu after, except you want to change your account.\n",
    "\n",
    "## Build your first quantum circuit\n",
    "\n",
    "Initialize a circuit with 5 qubits"
   ]
  },
  {
   "cell_type": "code",
   "execution_count": 3,
   "metadata": {},
   "outputs": [],
   "source": [
    "import numpy as np\n",
    "from quafu import QuantumCircuit\n",
    "\n",
    "q = QuantumCircuit(5)"
   ]
  },
  {
   "cell_type": "markdown",
   "metadata": {},
   "source": [
    "Add quantum gates. For quantum gates Quafu supports, please check the API reference for [`QuantumCircuit`](#quafu.QuantumCircuit)"
   ]
  },
  {
   "cell_type": "code",
   "execution_count": 11,
   "metadata": {},
   "outputs": [
    {
     "data": {
      "text/plain": [
       "<quafu.circuits.quantum_circuit.QuantumCircuit at 0x1fa56e848b0>"
      ]
     },
     "execution_count": 11,
     "metadata": {},
     "output_type": "execute_result"
    }
   ],
   "source": [
    "q.x(0)\n",
    "q.x(1) \n",
    "q.cnot(2, 1) \n",
    "q.ry(1, np.pi/2) \n",
    "q.rx(2, np.pi) \n",
    "q.rz(3, 0.1) \n",
    "q.cz(2, 3) "
   ]
  },
  {
   "cell_type": "markdown",
   "metadata": {},
   "source": [
    "Add measurement information including qubits measured (`measures`) and the classical bits keeping the measured results (`cbits`). If there is no measurement information provided, all qubits are measured by default.  "
   ]
  },
  {
   "cell_type": "code",
   "execution_count": 12,
   "metadata": {},
   "outputs": [],
   "source": [
    "measures = [0, 1, 2, 3]\n",
    "cbits = [0, 1, 2, 3]\n",
    "q.measure(measures,  cbits=cbits)"
   ]
  },
  {
   "cell_type": "markdown",
   "metadata": {},
   "source": [
    "You can draw the circuit using the [`draw_circuit`](#quafu.circuits.quantum_circuit.QuantumCircuit.draw_circuit) method and use `width` parameter to adjust the length of the circuit."
   ]
  },
  {
   "cell_type": "code",
   "execution_count": 13,
   "metadata": {},
   "outputs": [
    {
     "name": "stdout",
     "output_type": "stream",
     "text": [
      "q[0]  ------X----------------------------- M->c[0]\n",
      "                                          \n",
      "q[1]  ------X--------+----RY(1.571)------- M->c[1]\n",
      "                     |                    \n",
      "q[2]  ---------------*----RX(3.142)----*-- M->c[2]\n",
      "                                       |  \n",
      "q[3]  --RZ(0.100)----------------------Z-- M->c[3]\n"
     ]
    }
   ],
   "source": [
    "q.draw_circuit(width=4)"
   ]
  },
  {
   "cell_type": "markdown",
   "metadata": {},
   "source": [
    "You can also initial your quantum circuit with openqasm text. [`QuantumCircuit`](#quafu.QuantumCircuit) class provides the [`from_openqasm`](#quafu.circuits.quantum_circuit.QuantumCircuit.from_openqasm) method for initializing quantum circuit directly from openqasm."
   ]
  },
  {
   "cell_type": "code",
   "execution_count": 14,
   "metadata": {},
   "outputs": [
    {
     "name": "stdout",
     "output_type": "stream",
     "text": [
      "q[0]  --H----*----*----*-- M->c[0]\n",
      "             |    |    |  \n",
      "q[1]  -------+----|----|-- M->c[1]\n",
      "                  |    |  \n",
      "q[2]  ------------+----|-- M->c[2]\n",
      "                       |  \n",
      "q[3]  -----------------+-- M->c[3]\n"
     ]
    }
   ],
   "source": [
    "qc = QuantumCircuit(4)\n",
    "test_ghz = \"\"\"OPENQASM 2.0;\n",
    "include \"qelib1.inc\";\n",
    "qreg q[4];\n",
    "h q[0];\n",
    "cx q[0],q[1];\n",
    "cx q[0],q[2];\n",
    "cx q[0],q[3];\n",
    "\"\"\"\n",
    "qc.from_openqasm(test_ghz)\n",
    "qc.draw_circuit()"
   ]
  },
  {
   "cell_type": "markdown",
   "metadata": {},
   "source": [
    "## Submit your circuit\n",
    "Now you are ready to submit the circuit to the experimental backend. First initial a Task object and load your account. "
   ]
  },
  {
   "cell_type": "code",
   "execution_count": 4,
   "metadata": {},
   "outputs": [],
   "source": [
    "from quafu import Task\n",
    "task = Task()\n",
    "task.load_account()"
   ]
  },
  {
   "cell_type": "markdown",
   "metadata": {},
   "source": [
    "You can configure your task properties using the [`config`](#quafu.tasks.tasks.Task.config) method. Here we choose the backend (`backend`) as `ScQ-P10`, the single shots number (`shots`) as 2000 and to compile the circuit on backend (`compile`)."
   ]
  },
  {
   "cell_type": "code",
   "execution_count": 8,
   "metadata": {},
   "outputs": [],
   "source": [
    "task.config(backend=\"ScQ-P10\", shots=2000, compile=True)"
   ]
  },
  {
   "cell_type": "markdown",
   "metadata": {},
   "source": [
    "If you set the `compile` parameter to `False`, make sure that you know the topology of the backend well and submit valid circuit.\n",
    "\n",
    "Send the quantum circuit to the backend. Here we send circuit `q`."
   ]
  },
  {
   "cell_type": "code",
   "execution_count": 9,
   "metadata": {},
   "outputs": [],
   "source": [
    "res = task.send(q)"
   ]
  },
  {
   "cell_type": "markdown",
   "metadata": {},
   "source": [
    "You can use the returned results to check the count and amplitude on each measured bit string. The output bits are arranged as 0, 1, 2,... from left to the right."
   ]
  },
  {
   "cell_type": "code",
   "execution_count": 10,
   "metadata": {},
   "outputs": [
    {
     "name": "stdout",
     "output_type": "stream",
     "text": [
      "OrderedDict([('0010', 22), ('0011', 2), ('0110', 20), ('1000', 30), ('1001', 2), ('1010', 837), ('1011', 156), ('1100', 44), ('1110', 734), ('1111', 153)])\n",
      "{'0010': 0.011, '0011': 0.001, '0110': 0.01, '1000': 0.015, '1001': 0.001, '1010': 0.4185, '1011': 0.078, '1100': 0.022, '1110': 0.367, '1111': 0.0765}\n"
     ]
    },
    {
     "data": {
      "image/png": "[encoded data removed]",
      "text/plain": [
       "<Figure size 432x288 with 1 Axes>"
      ]
     },
     "metadata": {
      "needs_background": "light"
     },
     "output_type": "display_data"
    }
   ],
   "source": [
    "\n",
    "print(res.counts) #counts\n",
    "print(res.amplitudes) #amplitude\n",
    "res.plot_amplitudes()"
   ]
  },
  {
   "cell_type": "markdown",
   "metadata": {},
   "source": [
    "If you want to check the correctness the execute results. Quafu provide simple circuit similator based on sparse matrix."
   ]
  },
  {
   "cell_type": "code",
   "execution_count": 15,
   "metadata": {},
   "outputs": [
    {
     "data": {
      "image/png": "[encoded data removed]",
      "text/plain": [
       "<Figure size 432x288 with 1 Axes>"
      ]
     },
     "metadata": {
      "needs_background": "light"
     },
     "output_type": "display_data"
    }
   ],
   "source": [
    "from quafu import simulate\n",
    "simu_res = simulate(q, output=\"amplitudes\")\n",
    "simu_res.plot_amplitudes(full=True)"
   ]
  },
  {
   "cell_type": "markdown",
   "metadata": {},
   "source": [
    "You can also submit the 4-bit ghz circuit `qc` built from openqasm."
   ]
  },
  {
   "cell_type": "code",
   "execution_count": 12,
   "metadata": {},
   "outputs": [
    {
     "data": {
      "image/png": "[encoded data removed]",
      "text/plain": [
       "<Figure size 432x288 with 1 Axes>"
      ]
     },
     "metadata": {
      "needs_background": "light"
     },
     "output_type": "display_data"
    },
    {
     "data": {
      "image/png": "[encoded data removed]",
      "text/plain": [
       "<Figure size 432x288 with 1 Axes>"
      ]
     },
     "metadata": {
      "needs_background": "light"
     },
     "output_type": "display_data"
    }
   ],
   "source": [
    "res = task.send(qc)\n",
    "res.plot_amplitudes()\n",
    "\n",
    "simu_res = simulate(qc)\n",
    "simu_res.plot_amplitudes(full=True)"
   ]
  },
  {
   "cell_type": "markdown",
   "metadata": {},
   "source": [
    "If you don't want to plot the results for basis with zero amplitudes, set the parameter `full` in method [`plot_amplitudes`](#quafu.results.results.SimuResult.plot_amplitudes) to False. Note that this parameter is only valid for results returned by simulator.  \n",
    "\n",
    "## Submit circuit and measure observables\n",
    "\n",
    "Quafu provides measuring observables with an excuted quantum circuit. You can input Pauli operators that need to measure expectation values to the [`submit`](#quafu.tasks.tasks.Task.submit) method.\n",
    "For example, you can input [[\"XYX\", [0, 1, 2]], [\"Z\", [1]]] to calcuate the expectation of operators $\\sigma^x_0\\sigma^y_1\\sigma^x_2$ and $\\sigma^z_1$.\n",
    "The [`submit`](#quafu.tasks.tasks.Task.submit) method will minimize the executing times of the circuit with different measurement basis that can calculate all expectations of input operators. \n",
    "\n",
    "Here we show how to measure the energy expection of the Ising chain\n",
    "$$H=\\sum_i \\sigma^z_i \\sigma^z_{i+1} + g \\sum_i \\sigma^x_i.$$\n",
    "\n",
    "First we initialize a circuit with three Hadamard gate"
   ]
  },
  {
   "cell_type": "code",
   "execution_count": 13,
   "metadata": {},
   "outputs": [
    {
     "name": "stdout",
     "output_type": "stream",
     "text": [
      "q[0]  -H- M->c[0]\n",
      "         \n",
      "q[1]  --- M->c[1]\n",
      "         \n",
      "q[2]  -H- M->c[2]\n",
      "         \n",
      "q[3]  --- M->c[3]\n",
      "         \n",
      "q[4]  -H- M->c[4]\n"
     ]
    }
   ],
   "source": [
    "q = QuantumCircuit(5)\n",
    "\n",
    "for i in range(5):\n",
    "    if i % 2 == 0:\n",
    "        q.h(i)\n",
    "\n",
    "q.draw_circuit()\n",
    "measures = list(range(5))\n",
    "q.measure(measures)\n"
   ]
  },
  {
   "cell_type": "markdown",
   "metadata": {},
   "source": [
    "Next we set operators that need to be measured to calculate the energy expectation, and submit the circuit using [`submit`](#quafu.tasks.tasks.Task.submit) method"
   ]
  },
  {
   "cell_type": "code",
   "execution_count": 14,
   "metadata": {},
   "outputs": [
    {
     "name": "stdout",
     "output_type": "stream",
     "text": [
      "Job start, need measured in  [['XXXXX', [0, 1, 2, 3, 4]], ['ZZZZZ', [0, 1, 2, 3, 4]]]\n"
     ]
    }
   ],
   "source": [
    "test_Ising = [[\"X\", [i]] for i in range(5)]\n",
    "test_Ising.extend([[\"ZZ\", [i, i+1]] for i in range(4)])\n",
    "res, obsexp = task.submit(q, test_Ising)"
   ]
  },
  {
   "cell_type": "markdown",
   "metadata": {},
   "source": [
    "The function return measurement results and operator expectations. The measurement results only contain two ExecResult object since the circuit is only executed twice, with measurement basis  [['XXXXX', [0, 1, 2, 3, 4]] and ['ZZZZZ', [0, 1, 2, 3, 4]]] respectively."
   ]
  },
  {
   "cell_type": "code",
   "execution_count": 15,
   "metadata": {},
   "outputs": [
    {
     "data": {
      "image/png": "[encoded data removed]",
      "text/plain": [
       "<Figure size 432x288 with 1 Axes>"
      ]
     },
     "metadata": {
      "needs_background": "light"
     },
     "output_type": "display_data"
    },
    {
     "data": {
      "image/png": "[encoded data removed]",
      "text/plain": [
       "<Figure size 432x288 with 1 Axes>"
      ]
     },
     "metadata": {
      "needs_background": "light"
     },
     "output_type": "display_data"
    }
   ],
   "source": [
    "\n",
    "res[0].plot_amplitudes()\n",
    "res[1].plot_amplitudes()\n"
   ]
  },
  {
   "cell_type": "markdown",
   "metadata": {},
   "source": [
    "The return operator expectations (`obsexp`) is a list with a length equal to the input operator number. We can use it to calculate the energy expectation "
   ]
  },
  {
   "cell_type": "code",
   "execution_count": 16,
   "metadata": {},
   "outputs": [
    {
     "name": "stdout",
     "output_type": "stream",
     "text": [
      "[0.9930000000000001, -0.018000000000000016, 1.001, 0.03200000000000003, 1.001, 0.007000000000000006, 0.007000000000000006, -0.05800000000000005, -0.05800000000000005]\n",
      "1.4024999999999999\n"
     ]
    }
   ],
   "source": [
    "print(obsexp)\n",
    "g = 0.5\n",
    "E = g*sum(obsexp[:5])+sum(obsexp[5:])\n",
    "print(E)\n"
   ]
  },
  {
   "cell_type": "markdown",
   "metadata": {},
   "source": [
    "## Submit task asynchronously\n",
    "In above examples, you have to wait for the result return and cannot do other jobs continuely. Now you can choose to set the parameter `wait` in [`send`](#quafu.tasks.tasks.Task.send) function to `false` to submit the task asynchronously and do not need it to return. When you need, you can retrieve the results at any time and check status using [`retrieve`](#quafu.tasks.tasks.Task.retrieve) function. Here, we using the example that measuring the qubit decoherence time $T_1$ of to show the detail usage.\n",
    "\n",
    "First initial a task"
   ]
  },
  {
   "cell_type": "code",
   "execution_count": 14,
   "metadata": {},
   "outputs": [],
   "source": [
    "task = Task()\n",
    "task.load_account()\n",
    "task.config(backend=\"ScQ-S10\", shots=2000, compile=True, priority=2)"
   ]
  },
  {
   "cell_type": "markdown",
   "metadata": {},
   "source": [
    "Prepare parameters of a group of tasks and send the task asynchronously."
   ]
  },
  {
   "cell_type": "code",
   "execution_count": 15,
   "metadata": {},
   "outputs": [],
   "source": [
    "ts = range(0, 41, 4) #delay time list\n",
    "names = [\"%dus\" %t for t in ts] #name list\n",
    "for name, t in zip(names, ts): \n",
    "    q = QuantumCircuit(2)\n",
    "    q.x(1)\n",
    "    q.delay(1, t, unit=\"us\")\n",
    "    res = task.send(q, wait=False, name=name, group=\"Q1_T1\")\n"
   ]
  },
  {
   "cell_type": "markdown",
   "metadata": {},
   "source": [
    "Here the `delay` options will idle the target qubit `1` for a duration `t` in the time unit `us`(microsecond) and do nothing. In the send function, we set `wait` too false to execute task asynchronously,give each task a name by duration time and set all task to a group named \"Q1_T1\".\n",
    "\n",
    "Now we can try to retrieve the group of tasks using [`retrieve_group`](#quafu.tasks.tasks.Task.retrieve_group) method."
   ]
  },
  {
   "cell_type": "code",
   "execution_count": 17,
   "metadata": {},
   "outputs": [
    {
     "name": "stdout",
     "output_type": "stream",
     "text": [
      "Group:  Q1_T1\n",
      "task_id              task_name      status    \n",
      "15FC712038B5CAAE     0us            Completed \n",
      "15FC71300DD50BD1     4us            Running   \n",
      "15FC7130229491CF     8us            Completed \n",
      "15FC713036E64E56     12us           Completed \n",
      "15FC71400FBEAB8E     16us           In Queue  \n",
      "15FC71401FECB2F0     20us           In Queue  \n",
      "15FC714033B2CD5E     24us           In Queue  \n",
      "15FC71500ED001E6     28us           In Queue  \n",
      "15FC715020AF62C8     32us           In Queue  \n",
      "15FC71503653E9C9     36us           In Queue  \n",
      "15FC716010581117     40us           In Queue  \n",
      "[0.9775, 0.7745, 0.722]\n"
     ]
    }
   ],
   "source": [
    "group_res = task.retrieve_group(\"Q1_T1\")\n",
    "amps = [res.amplitudes[\"01\"] for res in group_res]\n",
    "print(amps)  "
   ]
  },
  {
   "cell_type": "code",
   "execution_count": 38,
   "metadata": {},
   "outputs": [
    {
     "name": "stdout",
     "output_type": "stream",
     "text": [
      "Group:  Q1_T1\n",
      "task_id              task_name      status    \n",
      "15FC712038B5CAAE     0us            Completed \n",
      "15FC71300DD50BD1     4us            Completed \n",
      "15FC7130229491CF     8us            Completed \n",
      "15FC713036E64E56     12us           Completed \n",
      "15FC71400FBEAB8E     16us           Completed \n",
      "15FC71401FECB2F0     20us           Completed \n",
      "15FC714033B2CD5E     24us           Completed \n",
      "15FC71500ED001E6     28us           Completed \n",
      "15FC715020AF62C8     32us           Completed \n",
      "15FC71503653E9C9     36us           Completed \n",
      "15FC716010581117     40us           Completed \n"
     ]
    }
   ],
   "source": [
    "group_res = task.retrieve_group(\"Q1_T1\")"
   ]
  },
  {
   "cell_type": "markdown",
   "metadata": {},
   "source": [
    "Once all tasks complete, we can do the next step."
   ]
  },
  {
   "cell_type": "code",
   "execution_count": 31,
   "metadata": {},
   "outputs": [
    {
     "name": "stdout",
     "output_type": "stream",
     "text": [
      "[0.9775, 0.9045, 0.7745, 0.722, 0.4295, 0.5205, 0.561, 0.481, 0.5, 0.492, 0.4275]\n"
     ]
    },
    {
     "data": {
      "text/plain": [
       "[<matplotlib.lines.Line2D at 0x1fe32568c10>]"
      ]
     },
     "execution_count": 31,
     "metadata": {},
     "output_type": "execute_result"
    },
    {
     "data": {
      "image/png": "[encoded data removed]",
      "text/plain": [
       "<Figure size 432x288 with 1 Axes>"
      ]
     },
     "metadata": {
      "needs_background": "light"
     },
     "output_type": "display_data"
    }
   ],
   "source": [
    "print(amps)\n",
    "import matplotlib.pyplot as plt\n",
    "plt.plot(ts, amps, \"-o\")"
   ]
  },
  {
   "cell_type": "markdown",
   "metadata": {},
   "source": [
    "Note that task retrieving relys on the submit history saved in the `task` object. If your `task` object is changed or detroy in the memory, you may get wrong results. Suppose you have to close your program after submit tasks, you need first save the history accociated to the `task` object."
   ]
  },
  {
   "cell_type": "code",
   "execution_count": 6,
   "metadata": {},
   "outputs": [
    {
     "name": "stdout",
     "output_type": "stream",
     "text": [
      "Group:  Q1_T1\n",
      "task_id              task_name      status    \n",
      "15FC712038B5CAAE     0us            Completed \n",
      "15FC71300DD50BD1     4us            Completed \n",
      "15FC7130229491CF     8us            Completed \n",
      "15FC713036E64E56     12us           Completed \n",
      "15FC71400FBEAB8E     16us           Completed \n",
      "15FC71401FECB2F0     20us           Completed \n",
      "15FC714033B2CD5E     24us           Completed \n",
      "15FC71500ED001E6     28us           Completed \n",
      "15FC715020AF62C8     32us           Completed \n",
      "15FC71503653E9C9     36us           Completed \n",
      "15FC716010581117     40us           Completed \n"
     ]
    }
   ],
   "source": [
    "old_history = task.get_history() #get the history of task\n",
    "#save the history to disk if you need!\n",
    "#do save...\n",
    "\n",
    "#retrieve the result using the `history` parameter with any Task() object\n",
    "#do load...\n",
    "newtask = Task()\n",
    "newtask.load_account()\n",
    "group_res = newtask.retrieve_group(\"Q1_T1\", history=old_history)"
   ]
  },
  {
   "cell_type": "markdown",
   "metadata": {},
   "source": [
    "Finally, you can also retrieve a single task using its unique `task_id`."
   ]
  },
  {
   "cell_type": "code",
   "execution_count": 8,
   "metadata": {},
   "outputs": [
    {
     "name": "stdout",
     "output_type": "stream",
     "text": [
      "{'01': 0.9775, '11': 0.0225}\n"
     ]
    }
   ],
   "source": [
    "res_0us = newtask.retrieve(old_history[\"Q1_T1\"][0])\n",
    "print(res_0us.amplitudes)"
   ]
  },
  {
   "cell_type": "markdown",
   "metadata": {},
   "source": [
    "##API Reference\n",
    "::: quafu"
   ]
  }
 ],
 "metadata": {
  "kernelspec": {
   "display_name": "Python 3.9.7 ('base')",
   "language": "python",
   "name": "python3"
  },
  "language_info": {
   "codemirror_mode": {
    "name": "ipython",
    "version": 3
   },
   "file_extension": ".py",
   "mimetype": "text/x-python",
   "name": "python",
   "nbconvert_exporter": "python",
   "pygments_lexer": "ipython3",
   "version": "3.9.7"
  },
  "orig_nbformat": 4,
  "vscode": {
   "interpreter": {
    "hash": "5179d32cf6ec497baf3f8a3ef987cc77c5d2dc691fdde20a56316522f61a7323"
   }
  }
 },
 "nbformat": 4,
 "nbformat_minor": 2
}
